{
  "nbformat": 4,
  "nbformat_minor": 0,
  "metadata": {
    "colab": {
      "name": "Untitled2.ipynb",
      "provenance": [],
      "authorship_tag": "ABX9TyNkXRQO6vnmoDdhVhcGU+13",
      "include_colab_link": true
    },
    "kernelspec": {
      "name": "python3",
      "display_name": "Python 3"
    },
    "language_info": {
      "name": "python"
    }
  },
  "cells": [
    {
      "cell_type": "markdown",
      "metadata": {
        "id": "view-in-github",
        "colab_type": "text"
      },
      "source": [
        "<a href=\"https://colab.research.google.com/github/Yashu-2021/Python-Encapsulation/blob/main/Untitled2.ipynb\" target=\"_parent\"><img src=\"https://colab.research.google.com/assets/colab-badge.svg\" alt=\"Open In Colab\"/></a>"
      ]
    },
    {
      "cell_type": "code",
      "metadata": {
        "id": "0FpufRHSz2yf"
      },
      "source": [
        "class student:\n",
        "  #Constructor\n",
        "  def __init__(self,student_name,student_age) :\n",
        "    self.name = student_name\n",
        "    self.age = student_age\n",
        "    \n",
        "    #Function to print the details\n",
        "  def print_student_details(self):\n",
        "      print(self.name +  '=='  + str(self.age))\n",
        "\n",
        "student1 = student(\"Anvi\",27)\n",
        "student2 = student(\"Krish\",19)\n",
        "student3 = student(\"Kush\", 21)\n",
        "student1.print_student_details()\n",
        "student2.print_student_details()\n",
        "student3.print_student_details()\n"
      ],
      "execution_count": null,
      "outputs": []
    }
  ]
}