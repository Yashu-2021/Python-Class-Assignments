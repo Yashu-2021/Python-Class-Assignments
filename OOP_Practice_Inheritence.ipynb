{
  "nbformat": 4,
  "nbformat_minor": 0,
  "metadata": {
    "colab": {
      "name": "OOP_Practice_Inheritence",
      "provenance": [],
      "authorship_tag": "ABX9TyMqinDfECZshnuxn/2PPV9m",
      "include_colab_link": true
    },
    "kernelspec": {
      "name": "python3",
      "display_name": "Python 3"
    },
    "language_info": {
      "name": "python"
    }
  },
  "cells": [
    {
      "cell_type": "markdown",
      "metadata": {
        "id": "view-in-github",
        "colab_type": "text"
      },
      "source": [
        "<a href=\"https://colab.research.google.com/github/Yashu-2021/Python-Class-Assignments/blob/main/OOP_Practice_Inheritence.ipynb\" target=\"_parent\"><img src=\"https://colab.research.google.com/assets/colab-badge.svg\" alt=\"Open In Colab\"/></a>"
      ]
    },
    {
      "cell_type": "code",
      "metadata": {
        "colab": {
          "base_uri": "https://localhost:8080/"
        },
        "id": "HP0qfk-FCpSI",
        "outputId": "a74d4a24-a3d1-4b8b-d5d1-442453c15d2c"
      },
      "source": [
        "# Problem 1: Create a Player class\n",
        "class Player:\n",
        "    MAX_POSITION = 10     # Class attribute   \n",
        "    def __init__(self):\n",
        "      self.position = 0 \n",
        "print(Player.MAX_POSITION)    # instance accessing Class attribute\n",
        "# Create a player p and print its MAX_POSITITON\n",
        "p = Player()\n",
        "print(p.MAX_POSITION)  # what is the oputput?"
      ],
      "execution_count": 1,
      "outputs": [
        {
          "output_type": "stream",
          "name": "stdout",
          "text": [
            "10\n",
            "10\n"
          ]
        }
      ]
    },
    {
      "cell_type": "markdown",
      "metadata": {
        "id": "Pd1u98lOG0DI"
      },
      "source": [
        "P1 - what will happen if you try to assign another value to a class attribute when accessing it from an instance?\n",
        "\n",
        "\n",
        "Answer - It will take new value as assigned by instance .\n"
      ]
    },
    {
      "cell_type": "code",
      "metadata": {
        "colab": {
          "base_uri": "https://localhost:8080/",
          "height": 246
        },
        "id": "qaweaU4vIYqe",
        "outputId": "311b238e-1161-429d-d5d3-a828c234638f"
      },
      "source": [
        "## Problem2 :\n",
        "class Player:\n",
        "    MAX_POSITION = 10     # Class attribute   \n",
        "    def __init__(self):\n",
        "      self.position = 0\n",
        "class Racer(Player):\n",
        "    MAX_SPEED = 5      # adding attributes to Child Class\n",
        "p = Player()\n",
        "r = Racer()\n",
        "# What is the output?\n",
        "print(\"r.MAX_SPEED = \", r.MAX_SPEED)\n",
        "print(\"p.MAX_POSITION = \", p.MAX_POSITION)\n",
        "print(\"r.MAX_POSITION = \", r.MAX_POSITION)\n",
        "print(\"p.MAX_SPEED = \", p.MAX_SPEED)        # It will throw an error as p object(of class player) has on Attribute as MAX_SPEED\n"
      ],
      "execution_count": 7,
      "outputs": [
        {
          "output_type": "stream",
          "name": "stdout",
          "text": [
            "r.MAX_SPEED =  5\n",
            "p.MAX_POSITION =  10\n",
            "r.MAX_POSITION =  10\n"
          ]
        },
        {
          "output_type": "error",
          "ename": "AttributeError",
          "evalue": "ignored",
          "traceback": [
            "\u001b[0;31m---------------------------------------------------------------------------\u001b[0m",
            "\u001b[0;31mAttributeError\u001b[0m                            Traceback (most recent call last)",
            "\u001b[0;32m<ipython-input-7-5a4cb6f8abd1>\u001b[0m in \u001b[0;36m<module>\u001b[0;34m()\u001b[0m\n\u001b[1;32m     12\u001b[0m \u001b[0mprint\u001b[0m\u001b[0;34m(\u001b[0m\u001b[0;34m\"p.MAX_POSITION = \"\u001b[0m\u001b[0;34m,\u001b[0m \u001b[0mp\u001b[0m\u001b[0;34m.\u001b[0m\u001b[0mMAX_POSITION\u001b[0m\u001b[0;34m)\u001b[0m\u001b[0;34m\u001b[0m\u001b[0;34m\u001b[0m\u001b[0m\n\u001b[1;32m     13\u001b[0m \u001b[0mprint\u001b[0m\u001b[0;34m(\u001b[0m\u001b[0;34m\"r.MAX_POSITION = \"\u001b[0m\u001b[0;34m,\u001b[0m \u001b[0mr\u001b[0m\u001b[0;34m.\u001b[0m\u001b[0mMAX_POSITION\u001b[0m\u001b[0;34m)\u001b[0m\u001b[0;34m\u001b[0m\u001b[0;34m\u001b[0m\u001b[0m\n\u001b[0;32m---> 14\u001b[0;31m \u001b[0mprint\u001b[0m\u001b[0;34m(\u001b[0m\u001b[0;34m\"p.MAX_SPEED = \"\u001b[0m\u001b[0;34m,\u001b[0m \u001b[0mp\u001b[0m\u001b[0;34m.\u001b[0m\u001b[0mMAX_SPEED\u001b[0m\u001b[0;34m)\u001b[0m\u001b[0;34m\u001b[0m\u001b[0;34m\u001b[0m\u001b[0m\n\u001b[0m",
            "\u001b[0;31mAttributeError\u001b[0m: 'Player' object has no attribute 'MAX_SPEED'"
          ]
        }
      ]
    },
    {
      "cell_type": "code",
      "metadata": {
        "colab": {
          "base_uri": "https://localhost:8080/"
        },
        "id": "GjwLfJKkJXR3",
        "outputId": "aeb29e25-f76c-43a5-f036-440c34270d08"
      },
      "source": [
        "# Problem 3: making changes in Child class methods\n",
        "class Employee:\n",
        "    def __init__(self, name, salary=30000):\n",
        "        self.name = name\n",
        "        self.salary = salary\n",
        "    def give_raise(self, amount):\n",
        "        self.salary += amount        \n",
        "class Manager(Employee):\n",
        "    def display(self):\n",
        "        print(\"Manager \", self.name)\n",
        "    def __init__(self, name, salary=50000, project=None):\n",
        "        Employee.__init__(self, name, salary)\n",
        "        self.project = project\n",
        "    def give_raise(self, amount, bonus=1.05): # Add a give_raise method\n",
        "        new_amount = amount * bonus\n",
        "        Employee.give_raise(self, new_amount)  # what is the diff?\n",
        "mngr = Manager(\"Ram\", 78500)\n",
        "mngr.give_raise(1000)\n",
        "print(mngr.salary)   # what is the output?\n",
        "mngr.give_raise(2000, bonus=1.03)\n",
        "print(mngr.salary)"
      ],
      "execution_count": 8,
      "outputs": [
        {
          "output_type": "stream",
          "name": "stdout",
          "text": [
            "79550.0\n",
            "81610.0\n"
          ]
        }
      ]
    },
    {
      "cell_type": "code",
      "metadata": {
        "colab": {
          "base_uri": "https://localhost:8080/"
        },
        "id": "ZHB2Iz8rJ5da",
        "outputId": "a26b14cc-bf84-4fc2-c332-25dcf7ae74b3"
      },
      "source": [
        "# Problem 4: Alternative Constructor \n",
        "class MyDate:\n",
        "    def __init__(self, year, month, day):     # Constructor\n",
        "      # Python allows multiple variable assignments in one line\n",
        "      self.year, self.month, self.day = year, month, day    \n",
        "    # Define a class method from_str\n",
        "    @classmethod\n",
        "    def from_str(cls, datestr):\n",
        "    # Split the string at \"-\" and  convert each part to integer\n",
        "        parts = datestr.split(\"-\")\n",
        "        year, month, day = int(parts[0]), int(parts[1]), int(parts[2])\n",
        "        return cls(year, month, day)       # Return the class instance  \n",
        "bd = MyDate.from_str('2021-09-08')   \n",
        "print(bd.year)\n",
        "print(bd.month)\n",
        "print(bd.day)"
      ],
      "execution_count": 9,
      "outputs": [
        {
          "output_type": "stream",
          "name": "stdout",
          "text": [
            "2021\n",
            "9\n",
            "8\n"
          ]
        }
      ]
    },
    {
      "cell_type": "code",
      "metadata": {
        "colab": {
          "base_uri": "https://localhost:8080/"
        },
        "id": "Ab8h00U4J_rR",
        "outputId": "5cb93987-95a9-44b7-c1d7-8c100a9052dd"
      },
      "source": [
        "## Problem 5 : Define a subclass \n",
        "class Employee:\n",
        "  MIN_SALARY = 30000    \n",
        "  def __init__(self, name, salary=MIN_SALARY):\n",
        "      self.name = name\n",
        "      if salary >= Employee.MIN_SALARY:\n",
        "        self.salary = salary\n",
        "      else:\n",
        "        self.salary = Employee.MIN_SALARY\n",
        "  def give_raise(self, amount):\n",
        "      self.salary += amount        \n",
        "# Define a new class Manager inheriting from Employee\n",
        "class Manager(Employee):\n",
        "  pass\n",
        "# Define a Manager object or child class \n",
        "mng = Manager(\"Bhavya\",10908)\n",
        "# Print mng's name\n",
        "print(mng.name)\n"
      ],
      "execution_count": 13,
      "outputs": [
        {
          "output_type": "stream",
          "name": "stdout",
          "text": [
            "Bhavya\n"
          ]
        }
      ]
    },
    {
      "cell_type": "code",
      "metadata": {
        "colab": {
          "base_uri": "https://localhost:8080/"
        },
        "id": "imRyCWnkKnVl",
        "outputId": "94333ade-b73a-4b49-f630-3facce33c582"
      },
      "source": [
        "#problem 6:\n",
        "class Employee:\n",
        "    def __init__(self, name, salary=30000):\n",
        "        self.name = name\n",
        "        self.salary = salary\n",
        "    def give_raise(self, amount):\n",
        "        self.salary += amount        \n",
        "class Manager(Employee):\n",
        "  # Add a constructor \n",
        "    def __init__(self, name, salary, project):\n",
        "        # Call the parent's constructor   \n",
        "        Employee.__init__(self, name, salary)\n",
        "        # Assign project attribute\n",
        "        self.project = project\n",
        "    def display(self):\n",
        "        print(\"Manager \", self.name)\n",
        "\n",
        "m1 = Manager(\"Ritwik\",167865,\"Blood_Donation_Management\")\n",
        "m1.display()"
      ],
      "execution_count": 14,
      "outputs": [
        {
          "output_type": "stream",
          "name": "stdout",
          "text": [
            "Manager  Ritwik\n"
          ]
        }
      ]
    }
  ]
}