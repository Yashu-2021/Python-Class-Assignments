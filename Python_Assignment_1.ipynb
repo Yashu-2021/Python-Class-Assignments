{
  "nbformat": 4,
  "nbformat_minor": 0,
  "metadata": {
    "colab": {
      "name": "Python- Assignment-1",
      "provenance": [],
      "authorship_tag": "ABX9TyPPIJKJXmrfppMH8SzDf7yK",
      "include_colab_link": true
    },
    "kernelspec": {
      "name": "python3",
      "display_name": "Python 3"
    },
    "language_info": {
      "name": "python"
    }
  },
  "cells": [
    {
      "cell_type": "markdown",
      "metadata": {
        "id": "view-in-github",
        "colab_type": "text"
      },
      "source": [
        "<a href=\"https://colab.research.google.com/github/Yashu-2021/Python-Class-Assignments/blob/main/Python_Assignment_1.ipynb\" target=\"_parent\"><img src=\"https://colab.research.google.com/assets/colab-badge.svg\" alt=\"Open In Colab\"/></a>"
      ]
    },
    {
      "cell_type": "code",
      "metadata": {
        "colab": {
          "base_uri": "https://localhost:8080/"
        },
        "id": "Q3LTBKQRJX8_",
        "outputId": "e4066be1-493b-4eb1-caad-7d09858dd296"
      },
      "source": [
        "#Problem-1\n",
        "x = 3\n",
        "y = 5.6\n",
        "string = \"Python Programing\"\n",
        "print(x)\n",
        "print(y)\n",
        "print(string)\n",
        "sum= x+y\n",
        "print(sum)\n",
        "sum1 = y + y\n",
        "print(sum1)\n",
        "combination = string + \" \" + string\n",
        "print(combination)\n"
      ],
      "execution_count": 7,
      "outputs": [
        {
          "output_type": "stream",
          "name": "stdout",
          "text": [
            "3\n",
            "5.6\n",
            "Python Programing\n",
            "8.6\n",
            "11.2\n",
            "Python Programing Python Programing\n"
          ]
        }
      ]
    },
    {
      "cell_type": "code",
      "metadata": {
        "colab": {
          "base_uri": "https://localhost:8080/"
        },
        "id": "mfpfYWiBK5iE",
        "outputId": "43770d90-05d7-4bf2-cb34-c035e3f71ea1"
      },
      "source": [
        "#Problem -2\n",
        "x = \"Welcome to Python Programing\"\n",
        "print(x)\n",
        "print(x[2])       \n",
        "print(x[1])\n",
        "s = x[0:4]         \n",
        "print(s)\n",
        "t = x[5:10]     \n",
        "print(t)\n",
        "s = \"My lucky number is %d, what is yours?\" % 7         \n",
        "print(s)\n",
        "s = \"My favorite number is \" + str(6) + \", what is yours?\"   \n",
        "print(s)"
      ],
      "execution_count": 10,
      "outputs": [
        {
          "output_type": "stream",
          "name": "stdout",
          "text": [
            "Welcome to Python Programing\n",
            "l\n",
            "e\n",
            "Welc\n",
            "me to\n",
            "My lucky number is 7, what is yours?\n",
            "My favorite number is 6, what is yours?\n"
          ]
        }
      ]
    },
    {
      "cell_type": "code",
      "metadata": {
        "colab": {
          "base_uri": "https://localhost:8080/"
        },
        "id": "JA2I4onlL16-",
        "outputId": "78f76125-3692-4b81-c847-0b6aa77f4952"
      },
      "source": [
        "#Problem-3\n",
        "s = \"She loves cooking\"\n",
        "s = s.replace(\"cooking\", \"eating\")\n",
        "index = s.find(\"loves\")\n",
        "if \"cooking\" in s:\n",
        "    print(\"Hobby found\")\n",
        "print(s,\"\\n\", index)\n"
      ],
      "execution_count": 11,
      "outputs": [
        {
          "output_type": "stream",
          "name": "stdout",
          "text": [
            "She loves eating \n",
            " 4\n"
          ]
        }
      ]
    },
    {
      "cell_type": "code",
      "metadata": {
        "colab": {
          "base_uri": "https://localhost:8080/"
        },
        "id": "RZivScu7NJ_C",
        "outputId": "c09504fd-4d5f-4149-8d10-58f3f0bd5227"
      },
      "source": [
        "#Problem-4\n",
        "firstName = \"Mohak\"\n",
        "lastName = \"Kumar\"\n",
        "words = [\"How\",\"are\",\"you\",\"learning \", \"Python \" , \"Course\",\"?\"]\n",
        "\n",
        "sentence = ' '.join(words)\n",
        "print(sentence)"
      ],
      "execution_count": 12,
      "outputs": [
        {
          "output_type": "stream",
          "name": "stdout",
          "text": [
            "How are you learning  Python  Course ?\n"
          ]
        }
      ]
    },
    {
      "cell_type": "code",
      "metadata": {
        "colab": {
          "base_uri": "https://localhost:8080/"
        },
        "id": "PkNL_DMANhs4",
        "outputId": "4c74d5e7-b5ff-4676-f3f1-484bf81b11d0"
      },
      "source": [
        " #Problem-5\n",
        " s = \"Python course is easy to Learn\"\n",
        "words = s.split()       \n",
        "print(words, len(s))\n",
        "\n",
        "x = list(words[0])   \n",
        "print(x)"
      ],
      "execution_count": 13,
      "outputs": [
        {
          "output_type": "stream",
          "name": "stdout",
          "text": [
            "['Python', 'course', 'is', 'easy', 'to', 'Learn'] 30\n",
            "['P', 'y', 't', 'h', 'o', 'n']\n"
          ]
        }
      ]
    },
    {
      "cell_type": "code",
      "metadata": {
        "colab": {
          "base_uri": "https://localhost:8080/"
        },
        "id": "HnA6xFUGNsJz",
        "outputId": "06306062-99b7-4dba-d361-4751f2dab1b5"
      },
      "source": [
        "#Problem-6\n",
        "import random\n",
        "\n",
        "# Create a random floating point number and print it.\n",
        "print(random.random())\n",
        "\n",
        "# pick a random whole number between 0 and 10.\n",
        "print(random.randrange(0,15))\n",
        "\n",
        "# pick a random floating point number between 0 and 10.\n",
        "print(random.uniform(0,10))"
      ],
      "execution_count": 14,
      "outputs": [
        {
          "output_type": "stream",
          "name": "stdout",
          "text": [
            "0.029387034759552177\n",
            "1\n",
            "6.941026357741484\n"
          ]
        }
      ]
    },
    {
      "cell_type": "code",
      "metadata": {
        "colab": {
          "base_uri": "https://localhost:8080/"
        },
        "id": "yJX-w03qN8w8",
        "outputId": "4c76bcf5-0ec3-4af1-fed5-2ba6da2f67d6"
      },
      "source": [
        "#Problem-7\n",
        "name = input('What is your name? ')\n",
        "print('Welcome to my Home ' + name)\n",
        "\n",
        "qualification = input('What is your Qualification? ')\n",
        "print(name + \"'s\" + ' Educational Qualification  is ' + qualification)\n",
        "\n",
        "phoneNum = input('Give me pohone number? ')\n",
        "print('Phone number is : ' + str(phoneNum))"
      ],
      "execution_count": 16,
      "outputs": [
        {
          "output_type": "stream",
          "name": "stdout",
          "text": [
            "What is your name? Yashika\n",
            "Welcome to my Home Yashika\n",
            "What is your Qualification? M.Tech\n",
            "Yashika's Educational Qualification  is M.Tech\n",
            "Give me pohone number? 9023874106\n",
            "Phone number is : 9023874106\n"
          ]
        }
      ]
    },
    {
      "cell_type": "code",
      "metadata": {
        "colab": {
          "base_uri": "https://localhost:8080/"
        },
        "id": "28BouR5rOVXi",
        "outputId": "b5f027c9-a3b8-4ad4-97f2-245a553da55b"
      },
      "source": [
        "#Problem-8\n",
        "gender = input(\"Gender : \")\n",
        "gender = gender.lower()\n",
        "if gender == \"male\":\n",
        "    print(\" cat is male\")\n",
        "elif gender == \"female\":\n",
        "    print(\"cat is female\")\n",
        "else:\n",
        "    print(\"Invalid input\")\n",
        "age = int(input(\"Age of your cat: \"))\n",
        "\n",
        "if age < 5:\n",
        "    print(\"cat age is\", age)\n",
        "else:\n",
        "    print(\"Your cat is adult.\")\n",
        "\n",
        "x = 3\n",
        "if x == 2:\n",
        "    print('two')\n",
        "elif x == 3:\n",
        "    print('three')\n",
        "elif x == 4:\n",
        "    print('four')\n",
        "else:\n",
        "    print('something else')"
      ],
      "execution_count": 19,
      "outputs": [
        {
          "output_type": "stream",
          "name": "stdout",
          "text": [
            "Gender : female\n",
            "cat is female\n",
            "Age of your cat: 3\n",
            "cat age is 3\n",
            "three\n"
          ]
        }
      ]
    },
    {
      "cell_type": "code",
      "metadata": {
        "colab": {
          "base_uri": "https://localhost:8080/"
        },
        "id": "40CwRI5fO1G1",
        "outputId": "36b7d90e-5e48-4eed-df46-9ccf5e402a43"
      },
      "source": [
        "#Problem-9\n",
        "city = ['Tokyo','New York','Toronto','Hong Kong']\n",
        "print('Cities loop:')\n",
        "for x in city:\n",
        "    print('City: ' + x)\n",
        "\n",
        "# problem 10\n",
        "\n",
        "x = 3                              \n",
        "while x < 10:\n",
        "    print(x)\n",
        "    x = x + 1"
      ],
      "execution_count": 20,
      "outputs": [
        {
          "output_type": "stream",
          "name": "stdout",
          "text": [
            "Cities loop:\n",
            "City: Tokyo\n",
            "City: New York\n",
            "City: Toronto\n",
            "City: Hong Kong\n",
            "3\n",
            "4\n",
            "5\n",
            "6\n",
            "7\n",
            "8\n",
            "9\n"
          ]
        }
      ]
    },
    {
      "cell_type": "code",
      "metadata": {
        "colab": {
          "base_uri": "https://localhost:8080/"
        },
        "id": "7YhAE_reO8Cs",
        "outputId": "8d7db7fa-886d-453e-d2d2-bc9f69d24901"
      },
      "source": [
        "#Problem-10\n",
        "def currentYear():\n",
        "    print('2021')\n",
        "currentYear()    \n",
        "\n",
        "\n",
        "def f(x,y):     \n",
        "    return x*y\n",
        "print(f(3,4))\n",
        "result = f(3,4)    \n",
        "print(result)\n",
        "print('\\n')  \n",
        "\n",
        "num = [1,2,3,4,5,6,7,8,9]\n",
        "print('x^2 loop:')\n",
        "for x in num:\n",
        "    y = x * x\n",
        "    print(str(x) + '*' + str(x) + '=' + str(y))\n",
        "\n",
        "# Python lists\n",
        "pythonList = [ \"New York\", \"Los Angles\", \"Boston\", \"Denver\" ]\n",
        "\n",
        "print(pythonList)     \n",
        "print(pythonList[0])  \n",
        "print(pythonList[-1])"
      ],
      "execution_count": 21,
      "outputs": [
        {
          "output_type": "stream",
          "name": "stdout",
          "text": [
            "2021\n",
            "12\n",
            "12\n",
            "\n",
            "\n",
            "x^2 loop:\n",
            "1*1=1\n",
            "2*2=4\n",
            "3*3=9\n",
            "4*4=16\n",
            "5*5=25\n",
            "6*6=36\n",
            "7*7=49\n",
            "8*8=64\n",
            "9*9=81\n",
            "['New York', 'Los Angles', 'Boston', 'Denver']\n",
            "New York\n",
            "Denver\n"
          ]
        }
      ]
    }
  ]
}